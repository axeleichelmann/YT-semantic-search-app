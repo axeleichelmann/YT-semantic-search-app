{
 "cells": [
  {
   "cell_type": "markdown",
   "metadata": {},
   "source": [
    "# ETL Pipeline of Youtube Video Transcripts"
   ]
  },
  {
   "cell_type": "code",
   "execution_count": 1,
   "metadata": {},
   "outputs": [
    {
     "name": "stderr",
     "output_type": "stream",
     "text": [
      "/Users/axel/Desktop/machine_learning/ShawTalebi_FSDS/env/lib/python3.9/site-packages/urllib3/__init__.py:35: NotOpenSSLWarning: urllib3 v2 only supports OpenSSL 1.1.1+, currently the 'ssl' module is compiled with 'LibreSSL 2.8.3'. See: https://github.com/urllib3/urllib3/issues/3020\n",
      "  warnings.warn(\n"
     ]
    }
   ],
   "source": [
    "import requests   # Allows us to make API calls\n",
    "import json   # Allows us to work w/ text in a JSON format\n",
    "import pandas as pd\n",
    "from datetime import datetime\n",
    "\n",
    "# Import youtube API & my personal youtube API key\n",
    "from my_sk import yt_api_key\n",
    "from youtube_transcript_api import YouTubeTranscriptApi\n",
    "\n",
    "# Import useful functions for ETL process\n",
    "import utils"
   ]
  },
  {
   "cell_type": "markdown",
   "metadata": {},
   "source": [
    "## Extract Process : Extract Transcript Data of Shaw Talebi's YT Videos"
   ]
  },
  {
   "cell_type": "code",
   "execution_count": 2,
   "metadata": {},
   "outputs": [],
   "source": [
    "# Define Channel ID of Shaw Talebi's YouTube channe;\n",
    "channel_id = 'UCa9gErQ9AE5jT2DZLjXBIdA'\n",
    "\n",
    "# Define the url for the API to use when you make a request\n",
    "url = 'https://www.googleapis.com/youtube/v3/search'\n",
    "\n",
    "# Initialize page token\n",
    "page_token = None\n",
    "\n",
    "# Initialize list to store video data\n",
    "video_record_list = []"
   ]
  },
  {
   "cell_type": "code",
   "execution_count": 3,
   "metadata": {},
   "outputs": [],
   "source": [
    "# Extract video data across multiple search result pages\n",
    "while page_token != 0:\n",
    "    # define parameters for API call\n",
    "    params = {'key' : yt_api_key, 'channelId' : channel_id,\n",
    "              'part' : [\"snippet\", \"id\"], 'order' : \"date\",\n",
    "              'maxResults' : 50, 'pageToken' : page_token}\n",
    "    \n",
    "    # Make get request\n",
    "    response = requests.get(url, params=params)\n",
    "    video_record_list += utils.getVideoRecords(response)\n",
    "\n",
    "    try:\n",
    "        # Get next page token\n",
    "        page_token = json.loads(response.text)[\"nextPageToken\"]\n",
    "    except:\n",
    "        # If no next page token, kill while loop\n",
    "        page_token = 0"
   ]
  },
  {
   "cell_type": "code",
   "execution_count": 4,
   "metadata": {},
   "outputs": [
    {
     "data": {
      "text/html": [
       "<div>\n",
       "<style scoped>\n",
       "    .dataframe tbody tr th:only-of-type {\n",
       "        vertical-align: middle;\n",
       "    }\n",
       "\n",
       "    .dataframe tbody tr th {\n",
       "        vertical-align: top;\n",
       "    }\n",
       "\n",
       "    .dataframe thead th {\n",
       "        text-align: right;\n",
       "    }\n",
       "</style>\n",
       "<table border=\"1\" class=\"dataframe\">\n",
       "  <thead>\n",
       "    <tr style=\"text-align: right;\">\n",
       "      <th></th>\n",
       "      <th>video_id</th>\n",
       "      <th>datetime</th>\n",
       "      <th>title</th>\n",
       "    </tr>\n",
       "  </thead>\n",
       "  <tbody>\n",
       "    <tr>\n",
       "      <th>0</th>\n",
       "      <td>bAe4qwQGxlI</td>\n",
       "      <td>2024-10-25T13:18:08Z</td>\n",
       "      <td>I Built an AI App in 4 days... here&amp;#39;s how.</td>\n",
       "    </tr>\n",
       "    <tr>\n",
       "      <th>1</th>\n",
       "      <td>4QHg8Ix8WWQ</td>\n",
       "      <td>2024-10-17T12:50:12Z</td>\n",
       "      <td>Fine-Tuning BERT for Text Classification (Pyth...</td>\n",
       "    </tr>\n",
       "    <tr>\n",
       "      <th>2</th>\n",
       "      <td>tMiQIxSX64c</td>\n",
       "      <td>2024-10-10T13:50:57Z</td>\n",
       "      <td>5 AI Projects You Can Build This Weekend (with...</td>\n",
       "    </tr>\n",
       "    <tr>\n",
       "      <th>3</th>\n",
       "      <td>7Oy2NmPwJXo</td>\n",
       "      <td>2024-09-26T23:24:35Z</td>\n",
       "      <td>I Quit My Job… Here’s How Much I Made 1 Year L...</td>\n",
       "    </tr>\n",
       "    <tr>\n",
       "      <th>4</th>\n",
       "      <td>ZVVkdXHqEuM</td>\n",
       "      <td>2024-09-23T15:45:12Z</td>\n",
       "      <td>Knowledge Distillation Explained in 60 Seconds...</td>\n",
       "    </tr>\n",
       "  </tbody>\n",
       "</table>\n",
       "</div>"
      ],
      "text/plain": [
       "      video_id              datetime  \\\n",
       "0  bAe4qwQGxlI  2024-10-25T13:18:08Z   \n",
       "1  4QHg8Ix8WWQ  2024-10-17T12:50:12Z   \n",
       "2  tMiQIxSX64c  2024-10-10T13:50:57Z   \n",
       "3  7Oy2NmPwJXo  2024-09-26T23:24:35Z   \n",
       "4  ZVVkdXHqEuM  2024-09-23T15:45:12Z   \n",
       "\n",
       "                                               title  \n",
       "0     I Built an AI App in 4 days... here&#39;s how.  \n",
       "1  Fine-Tuning BERT for Text Classification (Pyth...  \n",
       "2  5 AI Projects You Can Build This Weekend (with...  \n",
       "3  I Quit My Job… Here’s How Much I Made 1 Year L...  \n",
       "4  Knowledge Distillation Explained in 60 Seconds...  "
      ]
     },
     "execution_count": 4,
     "metadata": {},
     "output_type": "execute_result"
    }
   ],
   "source": [
    "# Store data in a Pandas DataFrame\n",
    "df = pd.DataFrame(video_record_list)\n",
    "df.head()"
   ]
  },
  {
   "cell_type": "code",
   "execution_count": 5,
   "metadata": {},
   "outputs": [],
   "source": [
    "# Initialize a list to store video captions\n",
    "transcript_text_list = []\n",
    "\n",
    "# Loop through each row of videos dataframe\n",
    "for i in range(len(df)):\n",
    "    # Try to extract captions\n",
    "    try:\n",
    "        # get transcript\n",
    "        transcript = YouTubeTranscriptApi.get_transcript(df['video_id'][i])\n",
    "        transcript_text = utils.extract_text(transcript)\n",
    "    except:\n",
    "        # If no captions available set transcript text to \"n/a\"\n",
    "        transcript_text = \"n/a\"\n",
    "    # Append transcript text to list\n",
    "    transcript_text_list.append(transcript_text)"
   ]
  },
  {
   "cell_type": "code",
   "execution_count": 6,
   "metadata": {},
   "outputs": [
    {
     "data": {
      "text/html": [
       "<div>\n",
       "<style scoped>\n",
       "    .dataframe tbody tr th:only-of-type {\n",
       "        vertical-align: middle;\n",
       "    }\n",
       "\n",
       "    .dataframe tbody tr th {\n",
       "        vertical-align: top;\n",
       "    }\n",
       "\n",
       "    .dataframe thead th {\n",
       "        text-align: right;\n",
       "    }\n",
       "</style>\n",
       "<table border=\"1\" class=\"dataframe\">\n",
       "  <thead>\n",
       "    <tr style=\"text-align: right;\">\n",
       "      <th></th>\n",
       "      <th>video_id</th>\n",
       "      <th>datetime</th>\n",
       "      <th>title</th>\n",
       "      <th>transcript</th>\n",
       "    </tr>\n",
       "  </thead>\n",
       "  <tbody>\n",
       "    <tr>\n",
       "      <th>0</th>\n",
       "      <td>bAe4qwQGxlI</td>\n",
       "      <td>2024-10-25T13:18:08Z</td>\n",
       "      <td>I Built an AI App in 4 days... here&amp;#39;s how.</td>\n",
       "      <td>I built a web app to translate YouTube videos ...</td>\n",
       "    </tr>\n",
       "    <tr>\n",
       "      <th>1</th>\n",
       "      <td>4QHg8Ix8WWQ</td>\n",
       "      <td>2024-10-17T12:50:12Z</td>\n",
       "      <td>Fine-Tuning BERT for Text Classification (Pyth...</td>\n",
       "      <td>massive Transformer models like GPT 40 llama a...</td>\n",
       "    </tr>\n",
       "    <tr>\n",
       "      <th>2</th>\n",
       "      <td>tMiQIxSX64c</td>\n",
       "      <td>2024-10-10T13:50:57Z</td>\n",
       "      <td>5 AI Projects You Can Build This Weekend (with...</td>\n",
       "      <td>the best way to develop your AI skills is by b...</td>\n",
       "    </tr>\n",
       "    <tr>\n",
       "      <th>3</th>\n",
       "      <td>7Oy2NmPwJXo</td>\n",
       "      <td>2024-09-26T23:24:35Z</td>\n",
       "      <td>I Quit My Job… Here’s How Much I Made 1 Year L...</td>\n",
       "      <td>14 months ago I made a big life change and lef...</td>\n",
       "    </tr>\n",
       "    <tr>\n",
       "      <th>4</th>\n",
       "      <td>ZVVkdXHqEuM</td>\n",
       "      <td>2024-09-23T15:45:12Z</td>\n",
       "      <td>Knowledge Distillation Explained in 60 Seconds...</td>\n",
       "      <td>knowledge distillation explained in 60 seconds...</td>\n",
       "    </tr>\n",
       "  </tbody>\n",
       "</table>\n",
       "</div>"
      ],
      "text/plain": [
       "      video_id              datetime  \\\n",
       "0  bAe4qwQGxlI  2024-10-25T13:18:08Z   \n",
       "1  4QHg8Ix8WWQ  2024-10-17T12:50:12Z   \n",
       "2  tMiQIxSX64c  2024-10-10T13:50:57Z   \n",
       "3  7Oy2NmPwJXo  2024-09-26T23:24:35Z   \n",
       "4  ZVVkdXHqEuM  2024-09-23T15:45:12Z   \n",
       "\n",
       "                                               title  \\\n",
       "0     I Built an AI App in 4 days... here&#39;s how.   \n",
       "1  Fine-Tuning BERT for Text Classification (Pyth...   \n",
       "2  5 AI Projects You Can Build This Weekend (with...   \n",
       "3  I Quit My Job… Here’s How Much I Made 1 Year L...   \n",
       "4  Knowledge Distillation Explained in 60 Seconds...   \n",
       "\n",
       "                                          transcript  \n",
       "0  I built a web app to translate YouTube videos ...  \n",
       "1  massive Transformer models like GPT 40 llama a...  \n",
       "2  the best way to develop your AI skills is by b...  \n",
       "3  14 months ago I made a big life change and lef...  \n",
       "4  knowledge distillation explained in 60 seconds...  "
      ]
     },
     "execution_count": 6,
     "metadata": {},
     "output_type": "execute_result"
    }
   ],
   "source": [
    "df['transcript'] = pd.Series(transcript_text_list)\n",
    "df.head()"
   ]
  },
  {
   "cell_type": "markdown",
   "metadata": {},
   "source": [
    "## Transform Process : Clean & Transform Data into a Useable form for the ML Model"
   ]
  },
  {
   "cell_type": "code",
   "execution_count": 7,
   "metadata": {},
   "outputs": [
    {
     "name": "stdout",
     "output_type": "stream",
     "text": [
      "shape :  (109, 4)\n",
      "num unqiue rows :  109\n",
      "num unique entries in video_id column :  109\n",
      "num unique entries in datetime column :  109\n",
      "num unique entries in title column :  109\n",
      "num unique entries in transcript column :  107\n"
     ]
    }
   ],
   "source": [
    "# Check for duplicates\n",
    "print(\"shape : \", df.shape)\n",
    "print(\"num unqiue rows : \", df.shape[0] - sum(df.duplicated()))\n",
    "for column in df.nunique().index:\n",
    "    print(f\"num unique entries in {column} column : \", df.nunique()[column])"
   ]
  },
  {
   "cell_type": "code",
   "execution_count": 8,
   "metadata": {},
   "outputs": [
    {
     "name": "stdout",
     "output_type": "stream",
     "text": [
      "Datatypes before : \n",
      "video_id      object\n",
      "datetime      object\n",
      "title         object\n",
      "transcript    object\n",
      "dtype: object\n",
      "Datatypes after : \n",
      " video_id      object\n",
      "datetime      object\n",
      "title         object\n",
      "transcript    object\n",
      "dtype: object\n"
     ]
    }
   ],
   "source": [
    "# Check Datatypes\n",
    "print(f\"Datatypes before : \\n{df.dtypes}\")\n",
    "\n",
    "# Convert to correct datatype\n",
    "#df['datetime'] = df.datetime.apply(lambda x : datetime.strptime(x, '%Y-%m-%dT%H:%M:%SZ'))\n",
    "\n",
    "# Check Datatypes\n",
    "print(\"Datatypes after : \\n\", df.dtypes)"
   ]
  },
  {
   "cell_type": "code",
   "execution_count": 9,
   "metadata": {},
   "outputs": [],
   "source": [
    "# List special characters and their replacements\n",
    "special_strings = ['&#39;', '&amp;', 'sha ']\n",
    "special_string_replacements = [\"'\", '&', 'Shaw ']\n",
    "\n",
    "# Replace each special string that appears in title and transcript columns\n",
    "for i in range(len(special_strings)):\n",
    "    df['title'] = df.title.apply(lambda x : x.replace(special_strings[i], special_string_replacements[i]))\n",
    "    df['transcript'] = df.transcript.apply(lambda x : x.replace(special_strings[i], special_string_replacements[i]))"
   ]
  },
  {
   "cell_type": "code",
   "execution_count": 10,
   "metadata": {},
   "outputs": [
    {
     "data": {
      "text/html": [
       "<div>\n",
       "<style scoped>\n",
       "    .dataframe tbody tr th:only-of-type {\n",
       "        vertical-align: middle;\n",
       "    }\n",
       "\n",
       "    .dataframe tbody tr th {\n",
       "        vertical-align: top;\n",
       "    }\n",
       "\n",
       "    .dataframe thead th {\n",
       "        text-align: right;\n",
       "    }\n",
       "</style>\n",
       "<table border=\"1\" class=\"dataframe\">\n",
       "  <thead>\n",
       "    <tr style=\"text-align: right;\">\n",
       "      <th></th>\n",
       "      <th>video_id</th>\n",
       "      <th>datetime</th>\n",
       "      <th>title</th>\n",
       "      <th>transcript</th>\n",
       "    </tr>\n",
       "  </thead>\n",
       "  <tbody>\n",
       "    <tr>\n",
       "      <th>0</th>\n",
       "      <td>bAe4qwQGxlI</td>\n",
       "      <td>2024-10-25T13:18:08Z</td>\n",
       "      <td>I Built an AI App in 4 days... here's how.</td>\n",
       "      <td>I built a web app to translate YouTube videos ...</td>\n",
       "    </tr>\n",
       "    <tr>\n",
       "      <th>1</th>\n",
       "      <td>4QHg8Ix8WWQ</td>\n",
       "      <td>2024-10-17T12:50:12Z</td>\n",
       "      <td>Fine-Tuning BERT for Text Classification (Pyth...</td>\n",
       "      <td>massive Transformer models like GPT 40 llama a...</td>\n",
       "    </tr>\n",
       "    <tr>\n",
       "      <th>2</th>\n",
       "      <td>tMiQIxSX64c</td>\n",
       "      <td>2024-10-10T13:50:57Z</td>\n",
       "      <td>5 AI Projects You Can Build This Weekend (with...</td>\n",
       "      <td>the best way to develop your AI skills is by b...</td>\n",
       "    </tr>\n",
       "    <tr>\n",
       "      <th>3</th>\n",
       "      <td>7Oy2NmPwJXo</td>\n",
       "      <td>2024-09-26T23:24:35Z</td>\n",
       "      <td>I Quit My Job… Here’s How Much I Made 1 Year L...</td>\n",
       "      <td>14 months ago I made a big life change and lef...</td>\n",
       "    </tr>\n",
       "    <tr>\n",
       "      <th>4</th>\n",
       "      <td>ZVVkdXHqEuM</td>\n",
       "      <td>2024-09-23T15:45:12Z</td>\n",
       "      <td>Knowledge Distillation Explained in 60 Seconds...</td>\n",
       "      <td>knowledge distillation explained in 60 seconds...</td>\n",
       "    </tr>\n",
       "  </tbody>\n",
       "</table>\n",
       "</div>"
      ],
      "text/plain": [
       "      video_id              datetime  \\\n",
       "0  bAe4qwQGxlI  2024-10-25T13:18:08Z   \n",
       "1  4QHg8Ix8WWQ  2024-10-17T12:50:12Z   \n",
       "2  tMiQIxSX64c  2024-10-10T13:50:57Z   \n",
       "3  7Oy2NmPwJXo  2024-09-26T23:24:35Z   \n",
       "4  ZVVkdXHqEuM  2024-09-23T15:45:12Z   \n",
       "\n",
       "                                               title  \\\n",
       "0         I Built an AI App in 4 days... here's how.   \n",
       "1  Fine-Tuning BERT for Text Classification (Pyth...   \n",
       "2  5 AI Projects You Can Build This Weekend (with...   \n",
       "3  I Quit My Job… Here’s How Much I Made 1 Year L...   \n",
       "4  Knowledge Distillation Explained in 60 Seconds...   \n",
       "\n",
       "                                          transcript  \n",
       "0  I built a web app to translate YouTube videos ...  \n",
       "1  massive Transformer models like GPT 40 llama a...  \n",
       "2  the best way to develop your AI skills is by b...  \n",
       "3  14 months ago I made a big life change and lef...  \n",
       "4  knowledge distillation explained in 60 seconds...  "
      ]
     },
     "execution_count": 10,
     "metadata": {},
     "output_type": "execute_result"
    }
   ],
   "source": [
    "df.head()"
   ]
  },
  {
   "cell_type": "markdown",
   "metadata": {},
   "source": [
    "## Load Process : Load the clean & transformed data into the project's 'data' directory\n"
   ]
  },
  {
   "cell_type": "code",
   "execution_count": 18,
   "metadata": {},
   "outputs": [],
   "source": [
    "# Save data as parquet file\n",
    "df.to_parquet('data/video-transcripts.parquet')"
   ]
  }
 ],
 "metadata": {
  "kernelspec": {
   "display_name": "env",
   "language": "python",
   "name": "python3"
  },
  "language_info": {
   "codemirror_mode": {
    "name": "ipython",
    "version": 3
   },
   "file_extension": ".py",
   "mimetype": "text/x-python",
   "name": "python",
   "nbconvert_exporter": "python",
   "pygments_lexer": "ipython3",
   "version": "3.9.6"
  }
 },
 "nbformat": 4,
 "nbformat_minor": 2
}
